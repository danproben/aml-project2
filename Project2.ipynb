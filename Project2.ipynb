{
 "cells": [
  {
   "cell_type": "markdown",
   "metadata": {},
   "source": [
    "# Gradient Boosted Trees\n",
    "---"
   ]
  },
  {
   "cell_type": "code",
   "execution_count": 58,
   "metadata": {},
   "outputs": [
    {
     "name": "stdout",
     "output_type": "stream",
     "text": [
      "136\n",
      "135\n",
      "accuracy for test ......  79.41176470588235\n",
      "accuracy for test ......  73.52941176470588\n",
      "accuracy for test ......  70.58823529411765\n",
      "accuracy for test ......  77.94117647058823\n",
      "accuracy for test ......  66.17647058823529\n",
      "accuracy for test ......  80.88235294117648\n",
      "accuracy for test ......  61.76470588235294\n",
      "accuracy for test ......  75.0\n",
      "accuracy for test ......  89.70588235294117\n",
      "accuracy for test ......  77.94117647058823\n",
      "* Average accuracy *:  75.29411764705883\n"
     ]
    }
   ],
   "source": [
    "import pandas as pd\n",
    "import numpy as np\n",
    "np.set_printoptions(formatter={'float': lambda x: \"{0:0.3f}\".format(x)})\n",
    "\n",
    "from sklearn.ensemble import GradientBoostingClassifier\n",
    "from sklearn.impute import KNNImputer\n",
    "from sklearn.datasets import make_classification\n",
    "from sklearn.model_selection import train_test_split\n",
    "\n",
    "data_df = pd.read_csv(\"NHANES_data_stroke_train.csv\")\n",
    "\n",
    "strokes = data_df[data_df[\"stroke\"] == 1]\n",
    "noStrokes = data_df[data_df[\"stroke\"] == 2]\n",
    "\n",
    "noStrokes = noStrokes.dropna()\n",
    "\n",
    "# Fill missing data in MIs using the imputer method considering 5 neighbors\n",
    "imputer = KNNImputer(n_neighbors=5)\n",
    "imputer.fit(strokes)\n",
    "imputed_data = imputer.transform(strokes)\n",
    "imputed_df = pd.DataFrame(imputed_data, columns=strokes.columns)\n",
    "\n",
    "undersample_noStrokes = noStrokes.sample(frac=0.097)\n",
    "\n",
    "print(len(undersample_noStrokes))\n",
    "print(len(strokes))\n",
    "\n",
    "# combine datasets\n",
    "# Ignore index to concatenate to the appropriate axis\n",
    "data = pd.concat([imputed_df, undersample_noStrokes], ignore_index=True)\n",
    "\n",
    "X = data[['Sex', 'Age', 'Race', 'Diastolic', 'Systolic', 'Pulse', 'BMI', 'HDL', 'Trig', 'LDL', 'TCHOL', 'kidneys_eGFR', 'Diabetes', 'CurrentSmoker', 'isActive']]\n",
    "y = data[\"stroke\"]\n",
    "\n",
    "avgAccuracy = []\n",
    "for i in range(10):\n",
    "    X_train, X_test, y_train, y_test = train_test_split(X, y, stratify=y) \n",
    "    # n_estimators = 100 <--- # of trees\n",
    "    \n",
    "    # Create a Gradient Boosting classifier with regularization\n",
    "    gbt = GradientBoostingClassifier(\n",
    "        n_estimators=100,\n",
    "        learning_rate=0.1,\n",
    "        max_depth=3,\n",
    "        min_samples_split=5,\n",
    "        min_samples_leaf=2,\n",
    "        subsample=0.8,\n",
    "        random_state=42,\n",
    "        verbose=0,\n",
    "    )\n",
    "    \n",
    "    # Fit the model to the data\n",
    "    gbt.fit(X_train, y_train)\n",
    "    \n",
    "    #print(\"accuracy for train:\", clf.score(X_train, y_train)*100)\n",
    "    acc = gbt.score(X_test, y_test)*100\n",
    "    avgAccuracy = avgAccuracy+[acc]\n",
    "    print(\"accuracy for test ...... \", acc)\n",
    "\n",
    "print(\"* Average accuracy *: \", sum(avgAccuracy)/len(avgAccuracy))"
   ]
  },
  {
   "cell_type": "markdown",
   "metadata": {},
   "source": [
    "# Random Forest\n",
    "---"
   ]
  },
  {
   "cell_type": "code",
   "execution_count": 71,
   "metadata": {},
   "outputs": [
    {
     "name": "stdout",
     "output_type": "stream",
     "text": [
      "136\n",
      "135\n",
      "accuracy for test ......  70.58823529411765\n",
      "accuracy for test ......  66.17647058823529\n",
      "accuracy for test ......  75.0\n",
      "accuracy for test ......  70.58823529411765\n",
      "accuracy for test ......  72.05882352941177\n",
      "accuracy for test ......  61.76470588235294\n",
      "accuracy for test ......  72.05882352941177\n",
      "accuracy for test ......  79.41176470588235\n",
      "accuracy for test ......  75.0\n",
      "accuracy for test ......  72.05882352941177\n",
      "* Average accuracy *:  71.47058823529412\n"
     ]
    }
   ],
   "source": [
    "import pandas as pd\n",
    "import numpy as np\n",
    "np.set_printoptions(formatter={'float': lambda x: \"{0:0.3f}\".format(x)})\n",
    "\n",
    "from sklearn.ensemble import RandomForestClassifier\n",
    "from sklearn.datasets import make_classification\n",
    "from sklearn.impute import KNNImputer\n",
    "from sklearn.model_selection import train_test_split\n",
    "\n",
    "\n",
    "data_df = pd.read_csv(\"NHANES_data_stroke_train.csv\")\n",
    "\n",
    "strokes = data_df[data_df[\"stroke\"] == 1]\n",
    "noStrokes = data_df[data_df[\"stroke\"] == 2]\n",
    "\n",
    "noStrokes = noStrokes.dropna()\n",
    "\n",
    "# Fill missing data in MIs using the imputer method considering 5 neighbors\n",
    "imputer = KNNImputer(n_neighbors=5)\n",
    "imputer.fit(strokes)\n",
    "imputed_data = imputer.transform(strokes)\n",
    "imputed_df = pd.DataFrame(imputed_data, columns=strokes.columns)\n",
    "\n",
    "undersample_noStrokes = noStrokes.sample(frac=0.097)\n",
    "\n",
    "print(len(undersample_noStrokes))\n",
    "print(len(strokes))\n",
    "\n",
    "# combine datasets\n",
    "# Ignore index to concatenate to the appropriate axis\n",
    "data = pd.concat([imputed_df, undersample_noStrokes], ignore_index=True)\n",
    "\n",
    "X = data[['Sex', 'Age', 'Race', 'Diastolic', 'Systolic', 'Pulse', 'BMI', 'HDL', 'Trig', 'LDL', 'TCHOL', 'kidneys_eGFR', 'Diabetes', 'CurrentSmoker', 'isActive']]\n",
    "y = data[\"stroke\"]\n",
    "\n",
    "avgAccuracy = []\n",
    "for i in range(10):\n",
    "    X_train, X_test, y_train, y_test = \\\n",
    "        train_test_split(X, y, stratify=y) \n",
    "    # n_estimators = 100 <--- # of trees\n",
    "    clf = RandomForestClassifier(n_estimators=100, max_depth=2, criterion='gini', random_state=25)\n",
    "    clf.fit(X_train, y_train)\n",
    "\n",
    "    #print(\"accuracy for train:\", clf.score(X_train, y_train)*100)\n",
    "    acc = clf.score(X_test, y_test)*100\n",
    "    avgAccuracy = avgAccuracy+[acc]\n",
    "    print(\"accuracy for test ...... \", acc)\n",
    "\n",
    "print(\"* Average accuracy *: \", sum(avgAccuracy)/len(avgAccuracy))"
   ]
  }
 ],
 "metadata": {
  "kernelspec": {
   "display_name": "Python 3",
   "language": "python",
   "name": "python3"
  },
  "language_info": {
   "codemirror_mode": {
    "name": "ipython",
    "version": 3
   },
   "file_extension": ".py",
   "mimetype": "text/x-python",
   "name": "python",
   "nbconvert_exporter": "python",
   "pygments_lexer": "ipython3",
   "version": "3.9.6"
  }
 },
 "nbformat": 4,
 "nbformat_minor": 2
}
